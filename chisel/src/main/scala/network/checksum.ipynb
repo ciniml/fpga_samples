{
 "cells": [
  {
   "cell_type": "code",
   "execution_count": 17,
   "metadata": {},
   "outputs": [
    {
     "name": "stdout",
     "output_type": "stream",
     "text": [
      "orig_sum          : F234\n",
      "orig_checksum     : 0DCB\n",
      "reply_sum         : EA34\n",
      "reply_checksum    : 15CB\n",
      "tweaked_checksum  : 15CB\n",
      "tweaked_checksum_2: 15CB\n"
     ]
    }
   ],
   "source": [
    "def ones_complement_add(lhs, rhs):\n",
    "    v = lhs + rhs\n",
    "    if (v & 0xffff0000) != 0:\n",
    "        v += 1\n",
    "    return v & 0xffff\n",
    "\n",
    "orig_sum = 0xf234\n",
    "orig_checksum = orig_sum ^ 0xffff\n",
    "reply_sum = ones_complement_add(orig_sum, 0x0800 ^ 0xffff)\n",
    "reply_checksum = reply_sum ^ 0xffff\n",
    "tweaked_checksum = orig_checksum + 0x0800\n",
    "tweaked_checksum_2 = ((orig_checksum ^ 0xffff) - 0x0800) & 0x1ffff\n",
    "tweaked_checksum_2 = ((tweaked_checksum_2 - (tweaked_checksum_2 >> 16)) & 0xffff) ^ 0xffff\n",
    "\n",
    "print(f\"orig_sum          : {orig_sum:04X}\")\n",
    "print(f\"orig_checksum     : {orig_checksum:04X}\")\n",
    "print(f\"reply_sum         : {reply_sum:04X}\")\n",
    "print(f\"reply_checksum    : {reply_checksum:04X}\")\n",
    "print(f\"tweaked_checksum  : {tweaked_checksum:04X}\")\n",
    "print(f\"tweaked_checksum_2: {tweaked_checksum_2:04X}\")"
   ]
  },
  {
   "cell_type": "code",
   "execution_count": 30,
   "metadata": {},
   "outputs": [
    {
     "name": "stdout",
     "output_type": "stream",
     "text": [
      "mismatch: a:0000, b:0800, aa:FFFF\n"
     ]
    }
   ],
   "source": [
    "def ones_complement_sub(lhs, rhs):\n",
    "    return ones_complement_add(lhs, rhs ^ 0xffff)\n",
    "\n",
    "for a in range(0, 0x10000):\n",
    "    b = ones_complement_add(a, 0x0800)\n",
    "    aa = ones_complement_sub(b, 0x0800)\n",
    "    if a != aa: print(f\"mismatch: a:{a:04X}, b:{b:04X}, aa:{aa:04X}\")"
   ]
  },
  {
   "cell_type": "code",
   "execution_count": 32,
   "metadata": {},
   "outputs": [
    {
     "name": "stdout",
     "output_type": "stream",
     "text": [
      "mismatch : orig:0800 expected:0000 actual:FFFF\n",
      "mismatch2: orig:0800 expected:0000 actual:FFFF\n"
     ]
    }
   ],
   "source": [
    "for orig_sum in range(0, 0x10000):\n",
    "    orig_checksum = orig_sum ^ 0xffff\n",
    "    reply_sum = ones_complement_add(orig_sum, 0x0800 ^ 0xffff)\n",
    "    reply_checksum = reply_sum ^ 0xffff\n",
    "    tweaked_checksum = ones_complement_add(orig_checksum, 0x0800) & 0xffff\n",
    "    tweaked_checksum_2 = ((orig_checksum ^ 0xffff) - 0x0800) & 0x1ffff\n",
    "    tweaked_checksum_2 = ((tweaked_checksum_2 - (tweaked_checksum_2 >> 16)) & 0xffff) ^ 0xffff\n",
    "    tweaked_checksum_3 = ones_complement_add(ones_complement_add(orig_checksum ^ 0xffff, 0x0800 ^ 0xffff), 0x0000) ^ 0xffff\n",
    "    if(tweaked_checksum   != reply_checksum): print(f\"mismatch : orig:{orig_sum:04X} expected:{reply_checksum:04X} actual:{tweaked_checksum:04X}\")\n",
    "    if(tweaked_checksum_2 != reply_checksum): print(f\"mismatch2: orig:{orig_sum:04X} expected:{reply_checksum:04X} actual:{tweaked_checksum_2:04X}\")\n",
    "    if(tweaked_checksum_3 != reply_checksum): print(f\"mismatch3: orig:{orig_sum:04X} expected:{reply_checksum:04X} actual:{tweaked_checksum_3:04X}\")\n"
   ]
  }
 ],
 "metadata": {
  "kernelspec": {
   "display_name": "Python 3.10.6 64-bit",
   "language": "python",
   "name": "python3"
  },
  "language_info": {
   "codemirror_mode": {
    "name": "ipython",
    "version": 3
   },
   "file_extension": ".py",
   "mimetype": "text/x-python",
   "name": "python",
   "nbconvert_exporter": "python",
   "pygments_lexer": "ipython3",
   "version": "3.10.6"
  },
  "orig_nbformat": 4,
  "vscode": {
   "interpreter": {
    "hash": "e7370f93d1d0cde622a1f8e1c04877d8463912d04d973331ad4851f04de6915a"
   }
  }
 },
 "nbformat": 4,
 "nbformat_minor": 2
}
